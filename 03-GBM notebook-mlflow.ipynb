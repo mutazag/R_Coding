{
  "cells": [
    {
      "cell_type": "markdown",
      "source": [
        "# Example notebook using R \r\n"
      ],
      "metadata": {
        "nteract": {
          "transient": {
            "deleting": false
          }
        }
      }
    },
    {
      "cell_type": "markdown",
      "source": [
        "import libraries and load dataset"
      ],
      "metadata": {
        "nteract": {
          "transient": {
            "deleting": false
          }
        }
      }
    },
    {
      "cell_type": "code",
      "source": [
        "rm(list=ls())\r\n",
        "library(gbm)\r\n",
        "library(parallel)\r\n",
        "library(caret)"
      ],
      "outputs": [
        {
          "output_type": "stream",
          "name": "stderr",
          "text": "Loaded gbm 2.1.8\n\nLoading required package: ggplot2\n\nLoading required package: lattice\n\n"
        }
      ],
      "execution_count": 1,
      "metadata": {}
    },
    {
      "cell_type": "markdown",
      "source": [
        "## Prepare mlflow "
      ],
      "metadata": {
        "nteract": {
          "transient": {
            "deleting": false
          }
        }
      }
    },
    {
      "cell_type": "code",
      "source": [
        "library(mlflow)\r\n",
        "system('az login --identity')\r\n",
        "\r\n",
        "new_tracking_uri = sub('azureml://', 'https://', mlflow_get_tracking_uri()) \r\n",
        "\r\n",
        "BEARER_TOKEN <- system('az account get-access-token --query accessToken -o tsv', intern = TRUE)\r\n",
        "\r\n",
        "Sys.setenv('MLFLOW_TRACKING_URI'=new_tracking_uri)\r\n",
        "Sys.setenv('MLFLOW_TRACKING_TOKEN'= BEARER_TOKEN)\r\n",
        "\r\n",
        "print(Sys.getenv('MLFLOW_TRACKING_URI'))\r\n",
        "print(substr(Sys.getenv('MLFLOW_TRACKING_TOKEN'), 1, 30))"
      ],
      "outputs": [
        {
          "output_type": "stream",
          "name": "stdout",
          "text": "[1] \"https://australiaeast.api.azureml.ms/mlflow/v1.0/subscriptions/907c8efc-c2c8-4c49-a4e1-aeb880e10c88/resourceGroups/azureml/providers/Microsoft.MachineLearningServices/workspaces/magazureml\"\n[1] \"eyJ0eXAiOiJKV1QiLCJhbGciOiJSUz\"\n"
        }
      ],
      "execution_count": 2,
      "metadata": {
        "jupyter": {
          "source_hidden": false,
          "outputs_hidden": false
        },
        "nteract": {
          "transient": {
            "deleting": false
          }
        }
      }
    },
    {
      "cell_type": "markdown",
      "source": [
        "## read dataset"
      ],
      "metadata": {
        "nteract": {
          "transient": {
            "deleting": false
          }
        }
      }
    },
    {
      "cell_type": "code",
      "source": [
        "# Read in and format our data\r\n",
        "wine_data <- read.csv(\"wines.csv\")\r\n",
        "str(wine_data)\r\n"
      ],
      "outputs": [
        {
          "output_type": "stream",
          "name": "stdout",
          "text": "'data.frame':\t6497 obs. of  14 variables:\n $ ID                  : int  1 2 3 4 5 6 7 8 9 10 ...\n $ fixed.acidity       : num  7.4 7.8 7.8 11.2 7.4 7.4 7.9 7.3 7.8 7.5 ...\n $ volatile.acidity    : num  0.7 0.88 0.76 0.28 0.7 0.66 0.6 0.65 0.58 0.5 ...\n $ citric.acid         : num  0 0 0.04 0.56 0 0 0.06 0 0.02 0.36 ...\n $ residual.sugar      : num  1.9 2.6 2.3 1.9 1.9 1.8 1.6 1.2 2 6.1 ...\n $ chlorides           : num  0.076 0.098 0.092 0.075 0.076 0.075 0.069 0.065 0.073 0.071 ...\n $ free.sulfur.dioxide : num  11 25 15 17 11 13 15 15 9 17 ...\n $ total.sulfur.dioxide: num  34 67 54 60 34 40 59 21 18 102 ...\n $ density             : num  0.998 0.997 0.997 0.998 0.998 ...\n $ pH                  : num  3.51 3.2 3.26 3.16 3.51 3.51 3.3 3.39 3.36 3.35 ...\n $ sulphates           : num  0.56 0.68 0.65 0.58 0.56 0.56 0.46 0.47 0.57 0.8 ...\n $ alcohol             : num  9.4 9.8 9.8 9.8 9.4 9.4 9.4 10 9.5 10.5 ...\n $ quality             : int  5 5 5 6 5 5 5 7 7 5 ...\n $ colour              : chr  \"red\" \"red\" \"red\" \"red\" ...\n"
        }
      ],
      "execution_count": 3,
      "metadata": {
        "jupyter": {
          "source_hidden": false,
          "outputs_hidden": false
        },
        "nteract": {
          "transient": {
            "deleting": false
          }
        }
      }
    },
    {
      "cell_type": "markdown",
      "source": [
        "## data preperation"
      ],
      "metadata": {
        "nteract": {
          "transient": {
            "deleting": false
          }
        }
      }
    },
    {
      "cell_type": "code",
      "source": [
        "#convert colour to factor\r\n",
        "wine_data$colour <- as.factor(wine_data$colour)\r\n",
        "\r\n",
        "# Drop the ID column\r\n",
        "wine_data$ID <- NULL\r\n",
        "\r\n",
        "# Let's make this a binary classification\r\n",
        "wine_data$quality_binary <- 1\r\n",
        "wine_data[wine_data$quality < 7, \"quality_binary\"] <- 0\r\n",
        "\r\n",
        "# Need to drop the quality predictor\r\n",
        "wine_data$quality <- NULL"
      ],
      "outputs": [],
      "execution_count": 4,
      "metadata": {
        "jupyter": {
          "source_hidden": false,
          "outputs_hidden": false
        },
        "nteract": {
          "transient": {
            "deleting": false
          }
        }
      }
    },
    {
      "cell_type": "code",
      "source": [
        "# Our dataset is a little imbalanced but not too bad.\r\n",
        "table_1 <- table(wine_data$quality_binary)\r\n",
        "table_1\r\n",
        "prop.table(table_1) \r\n",
        "barplot(table_1)"
      ],
      "outputs": [
        {
          "output_type": "display_data",
          "data": {
            "text/plain": "\n   0    1 \n5220 1277 "
          },
          "metadata": {}
        },
        {
          "output_type": "display_data",
          "data": {
            "text/plain": "\n        0         1 \n0.8034477 0.1965523 "
          },
          "metadata": {}
        },
        {
          "output_type": "display_data",
          "data": {
            "text/plain": "plot without title",
            "image/png": "[encoded data removed]"
          },
          "metadata": {
            "image/png": {
              "width": 420,
              "height": 420
            }
          }
        }
      ],
      "execution_count": 5,
      "metadata": {
        "jupyter": {
          "source_hidden": false,
          "outputs_hidden": false
        },
        "nteract": {
          "transient": {
            "deleting": false
          }
        }
      }
    },
    {
      "cell_type": "markdown",
      "source": [
        "## Training"
      ],
      "metadata": {
        "nteract": {
          "transient": {
            "deleting": false
          }
        }
      }
    },
    {
      "cell_type": "code",
      "source": [
        "# Create training and test sets. This process should be familiar by now\r\n",
        "trainset_size <- floor(0.80 * nrow(wine_data))\r\n",
        "set.seed(1) \r\n",
        "trainset_indices <- sample(seq_len(nrow(wine_data)), size = trainset_size)\r\n",
        "training <- wine_data[trainset_indices, ]\r\n",
        "testset <- wine_data[-trainset_indices, ]"
      ],
      "outputs": [],
      "execution_count": 6,
      "metadata": {
        "jupyter": {
          "source_hidden": false,
          "outputs_hidden": false
        },
        "nteract": {
          "transient": {
            "deleting": false
          }
        }
      }
    },
    {
      "cell_type": "code",
      "source": [
        "# Checks\r\n",
        "mlflow_log_metric('training set size', nrow(training))\r\n",
        "mlflow_log_metric('test set size', nrow(testset)) \r\n",
        "mlflow_log_metric('data set size', nrow(wine_data))"
      ],
      "outputs": [],
      "execution_count": 7,
      "metadata": {
        "jupyter": {
          "source_hidden": false,
          "outputs_hidden": false
        },
        "nteract": {
          "transient": {
            "deleting": false
          }
        }
      }
    },
    {
      "cell_type": "code",
      "source": [
        "# Defining some parameters\r\n",
        "\r\n",
        "gbm_depth = 2 #maximum nodes per tree\r\n",
        "gbm_n_min = 20 #minimum number of observations in the trees terminal, important effect on overfitting\r\n",
        "gbm_shrinkage=0.01 #learning rate\r\n",
        "cores_num = detectCores() - 1 #number of cores. Leave 1 for OS. Beware this setting!\r\n",
        "gbm_cv_folds=5 #number of cross-validation folds to perform\r\n",
        "num_trees = 200 # Number of iterations\r\n",
        "\r\n"
      ],
      "outputs": [],
      "execution_count": 8,
      "metadata": {
        "jupyter": {
          "source_hidden": false,
          "outputs_hidden": false
        },
        "nteract": {
          "transient": {
            "deleting": false
          }
        }
      }
    },
    {
      "cell_type": "code",
      "source": [
        "\r\n",
        "params = data.frame(\r\n",
        "    key = c('gbm_depth', 'gbm_n_min', 'gbm_shrinkage', 'cores_num', 'gbm_cv_folds', 'num_trees'), \r\n",
        "    value = c(gbm_depth, gbm_n_min, gbm_shrinkage, cores_num, gbm_cv_folds, num_trees)\r\n",
        ")\r\n",
        "mlflow_log_batch(\r\n",
        "    params = params\r\n",
        ")\r\n"
      ],
      "outputs": [],
      "execution_count": 9,
      "metadata": {
        "jupyter": {
          "source_hidden": false,
          "outputs_hidden": false
        },
        "nteract": {
          "transient": {
            "deleting": false
          }
        }
      }
    },
    {
      "cell_type": "code",
      "source": [
        "start <- proc.time()\r\n",
        "\r\n",
        "# fit initial model\r\n",
        "gbm_clf = gbm(training$quality_binary~.,\r\n",
        "                  data=training[, -ncol(training)],\r\n",
        "                  distribution='bernoulli', #binary response\r\n",
        "                  n.trees=num_trees,\r\n",
        "                  interaction.depth= gbm_depth,\r\n",
        "                  n.minobsinnode = gbm_n_min, \r\n",
        "                  shrinkage=gbm_shrinkage, \r\n",
        "                  cv.folds=gbm_cv_folds,\r\n",
        "                  verbose = TRUE, #print the preliminary output\r\n",
        "                  n.cores = cores_num\r\n",
        ")\r\n",
        "\r\n",
        "end <- proc.time() - start\r\n",
        "\r\n",
        "end_time <- as.numeric((paste(end[3])))\r\n",
        "\r\n",
        "\r\n",
        "mlflow_log_metric('end_time', end_time)"
      ],
      "outputs": [
        {
          "output_type": "stream",
          "name": "stdout",
          "text": "Iter   TrainDeviance   ValidDeviance   StepSize   Improve\n     1        0.9915            -nan     0.0100    0.0015\n     2        0.9882            -nan     0.0100    0.0015\n     3        0.9850            -nan     0.0100    0.0015\n     4        0.9820            -nan     0.0100    0.0015\n     5        0.9790            -nan     0.0100    0.0014\n     6        0.9762            -nan     0.0100    0.0014\n     7        0.9734            -nan     0.0100    0.0014\n     8        0.9706            -nan     0.0100    0.0013\n     9        0.9679            -nan     0.0100    0.0013\n    10        0.9654            -nan     0.0100    0.0012\n    20        0.9411            -nan     0.0100    0.0010\n    40        0.9044            -nan     0.0100    0.0007\n    60        0.8779            -nan     0.0100    0.0005\n    80        0.8585            -nan     0.0100    0.0003\n   100        0.8435            -nan     0.0100    0.0002\n   120        0.8308            -nan     0.0100    0.0003\n   140        0.8210            -nan     0.0100    0.0002\n   160        0.8121            -nan     0.0100    0.0001\n   180        0.8049            -nan     0.0100    0.0001\n   200        0.7983            -nan     0.0100    0.0001\n\n"
        }
      ],
      "execution_count": 10,
      "metadata": {
        "jupyter": {
          "source_hidden": false,
          "outputs_hidden": false
        },
        "nteract": {
          "transient": {
            "deleting": false
          }
        }
      }
    },
    {
      "cell_type": "markdown",
      "source": [
        "## Explore Results"
      ],
      "metadata": {
        "nteract": {
          "transient": {
            "deleting": false
          }
        }
      }
    },
    {
      "cell_type": "code",
      "source": [
        "# Estimate the optimal number of iterations (when will the model stop improving)\r\n",
        "# The black is the training deviance dropping whilst the green is the test.\r\n",
        "best_iter = gbm.perf(gbm_clf, method = \"cv\")\r\n",
        "print(best_iter)\r\n"
      ],
      "outputs": [
        {
          "output_type": "stream",
          "name": "stdout",
          "text": "[1] 200\n"
        },
        {
          "output_type": "display_data",
          "data": {
            "text/plain": "plot without title",
            "image/png": "[encoded data removed]"
          },
          "metadata": {
            "image/png": {
              "width": 420,
              "height": 420
            }
          }
        }
      ],
      "execution_count": 11,
      "metadata": {
        "jupyter": {
          "source_hidden": false,
          "outputs_hidden": false
        },
        "nteract": {
          "transient": {
            "deleting": false
          }
        }
      }
    },
    {
      "cell_type": "code",
      "source": [
        "# Gives the variable importance in a graph\r\n",
        "summary_gbm = summary(gbm_clf,n.trees=best_iter, ylab = \"Variable\", main = \"Variable Relative Importance\")\r\n",
        "\r\n",
        "\r\n",
        "# OR just as a table\r\n",
        "# summary(gbm_clf)"
      ],
      "outputs": [
        {
          "output_type": "display_data",
          "data": {
            "text/plain": "Plot with title “Variable Relative Importance”",
            "image/png": "[encoded data removed]"
          },
          "metadata": {
            "image/png": {
              "width": 420,
              "height": 420
            }
          }
        }
      ],
      "execution_count": 12,
      "metadata": {
        "jupyter": {
          "source_hidden": false,
          "outputs_hidden": false
        },
        "nteract": {
          "transient": {
            "deleting": false
          }
        }
      }
    },
    {
      "cell_type": "markdown",
      "source": [
        "## Test model"
      ],
      "metadata": {
        "nteract": {
          "transient": {
            "deleting": false
          }
        }
      }
    },
    {
      "cell_type": "code",
      "source": [
        "# Let us get our estimates\r\n",
        "testset$probability = predict(gbm_clf, testset, n.trees = best_iter, type = \"response\")\r\n",
        "testset$prediction = 0\r\n",
        "\r\n",
        "# Modify the probability threshold to see if you can get a better accuracy\r\n",
        "testset[testset$probability >= 0.5, \"prediction\"] = 1\r\n"
      ],
      "outputs": [],
      "execution_count": 13,
      "metadata": {
        "jupyter": {
          "source_hidden": false,
          "outputs_hidden": false
        },
        "nteract": {
          "transient": {
            "deleting": false
          }
        }
      }
    },
    {
      "cell_type": "code",
      "source": [
        "# Confusion matrix\r\n",
        "confusion_matrix <- table(pred=testset$prediction,true=testset$quality_binary)\r\n",
        "confusionMatrix(confusion_matrix)"
      ],
      "outputs": [
        {
          "output_type": "display_data",
          "data": {
            "text/plain": "Confusion Matrix and Statistics\n\n    true\npred    0    1\n   0 1033  226\n   1   18   23\n                                        \n               Accuracy : 0.8123        \n                 95% CI : (0.79, 0.8332)\n    No Information Rate : 0.8085        \n    P-Value [Acc > NIR] : 0.378         \n                                        \n                  Kappa : 0.1104        \n                                        \n Mcnemar's Test P-Value : <2e-16        \n                                        \n            Sensitivity : 0.98287       \n            Specificity : 0.09237       \n         Pos Pred Value : 0.82049       \n         Neg Pred Value : 0.56098       \n             Prevalence : 0.80846       \n         Detection Rate : 0.79462       \n   Detection Prevalence : 0.96846       \n      Balanced Accuracy : 0.53762       \n                                        \n       'Positive' Class : 0             \n                                        "
          },
          "metadata": {}
        }
      ],
      "execution_count": 14,
      "metadata": {
        "jupyter": {
          "source_hidden": false,
          "outputs_hidden": false
        },
        "nteract": {
          "transient": {
            "deleting": false
          }
        }
      }
    },
    {
      "cell_type": "markdown",
      "source": [
        "## log model performance metrics"
      ],
      "metadata": {
        "nteract": {
          "transient": {
            "deleting": false
          }
        }
      }
    },
    {
      "cell_type": "code",
      "source": [
        "cm <- confusionMatrix(confusion_matrix)\r\n",
        "str(cm)"
      ],
      "outputs": [
        {
          "output_type": "stream",
          "name": "stdout",
          "text": "List of 6\n $ positive: chr \"0\"\n $ table   : 'table' int [1:2, 1:2] 1033 18 226 23\n  ..- attr(*, \"dimnames\")=List of 2\n  .. ..$ pred: chr [1:2] \"0\" \"1\"\n  .. ..$ true: chr [1:2] \"0\" \"1\"\n $ overall : Named num [1:7] 0.812 0.11 0.79 0.833 0.808 ...\n  ..- attr(*, \"names\")= chr [1:7] \"Accuracy\" \"Kappa\" \"AccuracyLower\" \"AccuracyUpper\" ...\n $ byClass : Named num [1:11] 0.9829 0.0924 0.8205 0.561 0.8205 ...\n  ..- attr(*, \"names\")= chr [1:11] \"Sensitivity\" \"Specificity\" \"Pos Pred Value\" \"Neg Pred Value\" ...\n $ mode    : chr \"sens_spec\"\n $ dots    : list()\n - attr(*, \"class\")= chr \"confusionMatrix\"\n"
        }
      ],
      "execution_count": 18,
      "metadata": {
        "jupyter": {
          "source_hidden": false,
          "outputs_hidden": false
        },
        "nteract": {
          "transient": {
            "deleting": false
          }
        }
      }
    },
    {
      "cell_type": "code",
      "source": [
        "for (name in attributes(cm$overall)$names) \r\n",
        "    mlflow_log_metric(name, cm$overall[name])\r\n"
      ],
      "outputs": [],
      "execution_count": 33,
      "metadata": {
        "jupyter": {
          "source_hidden": false,
          "outputs_hidden": false
        },
        "nteract": {
          "transient": {
            "deleting": false
          }
        }
      }
    },
    {
      "cell_type": "markdown",
      "source": [
        "## end experiment run"
      ],
      "metadata": {
        "nteract": {
          "transient": {
            "deleting": false
          }
        }
      }
    },
    {
      "cell_type": "code",
      "source": [
        "mlflow_end_run()"
      ],
      "outputs": [
        {
          "output_type": "display_data",
          "data": {
            "text/html": "<table class=\"dataframe\">\n<caption>A mlflow_run: 1 × 12</caption>\n<thead>\n\t<tr><th scope=col>run_uuid</th><th scope=col>experiment_id</th><th scope=col>user_id</th><th scope=col>status</th><th scope=col>start_time</th><th scope=col>end_time</th><th scope=col>artifact_uri</th><th scope=col>lifecycle_stage</th><th scope=col>run_id</th><th scope=col>metrics</th><th scope=col>params</th><th scope=col>tags</th></tr>\n\t<tr><th scope=col>&lt;chr&gt;</th><th scope=col>&lt;chr&gt;</th><th scope=col>&lt;chr&gt;</th><th scope=col>&lt;chr&gt;</th><th scope=col>&lt;dttm&gt;</th><th scope=col>&lt;dttm&gt;</th><th scope=col>&lt;chr&gt;</th><th scope=col>&lt;chr&gt;</th><th scope=col>&lt;chr&gt;</th><th scope=col>&lt;list&gt;</th><th scope=col>&lt;list&gt;</th><th scope=col>&lt;list&gt;</th></tr>\n</thead>\n<tbody>\n\t<tr><td>65842778-39d3-4b98-89c7-eed8f5e48755</td><td>37100a77-4514-475e-a055-225f29ec6542</td><td>efd036e9-c0e2-435e-90a8-0b5e91d4eaf2</td><td>FINISHED</td><td>2022-04-16 09:55:22</td><td>2022-04-16 10:04:11</td><td>azureml://experiments/Default/runs/65842778-39d3-4b98-89c7-eed8f5e48755/artifacts</td><td>active</td><td>65842778-39d3-4b98-89c7-eed8f5e48755</td><td><span style=white-space:pre-wrap>training set size   , test set size       , data set size       , end_time            , Accuracy            , Kappa               , AccuracyLower       , AccuracyUpper       , AccuracyNull        , AccuracyPValue      , McnemarPValue       , 5197                , 1300                , 6497                , 4.405               , 0.812307692307692   , 0.110443039749623   , 0.790000244205857   , 0.833192989571106   , 0.808461538461538   , 0.378048411881726   , 4.40409275046511e-40, 1650102923.122      , 1650102923.796      , 1650102924.285      , 1650102929.211      , 1650103407.01       , 1650103412.507      , 1650103412.863      , 1650103413.395      , 1650103413.677      , 1650103413.937      , 1650103414.216      </span></td><td><span style=white-space:pre-wrap>gbm_depth    , gbm_n_min    , gbm_shrinkage, cores_num    , gbm_cv_folds , num_trees    , 2            , 20           , 0.01         , 3            , 5            , 200          </span></td><td><span style=white-space:pre-wrap>mlflow.user                         , mlflow.source.name                  , mlflow.source.type                  , mlflow.rootRunId                    , mlflow.runName                      , azureuser                           , &lt;console&gt;                           , LOCAL                               , 65842778-39d3-4b98-89c7-eed8f5e48755, icy_board_8kskxfr2                  </span></td></tr>\n</tbody>\n</table>\n",
            "text/markdown": "\nA mlflow_run: 1 × 12\n\n| run_uuid &lt;chr&gt; | experiment_id &lt;chr&gt; | user_id &lt;chr&gt; | status &lt;chr&gt; | start_time &lt;dttm&gt; | end_time &lt;dttm&gt; | artifact_uri &lt;chr&gt; | lifecycle_stage &lt;chr&gt; | run_id &lt;chr&gt; | metrics &lt;list&gt; | params &lt;list&gt; | tags &lt;list&gt; |\n|---|---|---|---|---|---|---|---|---|---|---|---|\n| 65842778-39d3-4b98-89c7-eed8f5e48755 | 37100a77-4514-475e-a055-225f29ec6542 | efd036e9-c0e2-435e-90a8-0b5e91d4eaf2 | FINISHED | 2022-04-16 09:55:22 | 2022-04-16 10:04:11 | azureml://experiments/Default/runs/65842778-39d3-4b98-89c7-eed8f5e48755/artifacts | active | 65842778-39d3-4b98-89c7-eed8f5e48755 | training set size   , test set size       , data set size       , end_time            , Accuracy            , Kappa               , AccuracyLower       , AccuracyUpper       , AccuracyNull        , AccuracyPValue      , McnemarPValue       , 5197                , 1300                , 6497                , 4.405               , 0.812307692307692   , 0.110443039749623   , 0.790000244205857   , 0.833192989571106   , 0.808461538461538   , 0.378048411881726   , 4.40409275046511e-40, 1650102923.122      , 1650102923.796      , 1650102924.285      , 1650102929.211      , 1650103407.01       , 1650103412.507      , 1650103412.863      , 1650103413.395      , 1650103413.677      , 1650103413.937      , 1650103414.216       | gbm_depth    , gbm_n_min    , gbm_shrinkage, cores_num    , gbm_cv_folds , num_trees    , 2            , 20           , 0.01         , 3            , 5            , 200           | mlflow.user                         , mlflow.source.name                  , mlflow.source.type                  , mlflow.rootRunId                    , mlflow.runName                      , azureuser                           , &lt;console&gt;                           , LOCAL                               , 65842778-39d3-4b98-89c7-eed8f5e48755, icy_board_8kskxfr2                   |\n\n",
            "text/latex": "A mlflow\\_run: 1 × 12\n\\begin{tabular}{llllllllllll}\n run\\_uuid & experiment\\_id & user\\_id & status & start\\_time & end\\_time & artifact\\_uri & lifecycle\\_stage & run\\_id & metrics & params & tags\\\\\n <chr> & <chr> & <chr> & <chr> & <dttm> & <dttm> & <chr> & <chr> & <chr> & <list> & <list> & <list>\\\\\n\\hline\n\t 65842778-39d3-4b98-89c7-eed8f5e48755 & 37100a77-4514-475e-a055-225f29ec6542 & efd036e9-c0e2-435e-90a8-0b5e91d4eaf2 & FINISHED & 2022-04-16 09:55:22 & 2022-04-16 10:04:11 & azureml://experiments/Default/runs/65842778-39d3-4b98-89c7-eed8f5e48755/artifacts & active & 65842778-39d3-4b98-89c7-eed8f5e48755 & training set size   , test set size       , data set size       , end\\_time            , Accuracy            , Kappa               , AccuracyLower       , AccuracyUpper       , AccuracyNull        , AccuracyPValue      , McnemarPValue       , 5197                , 1300                , 6497                , 4.405               , 0.812307692307692   , 0.110443039749623   , 0.790000244205857   , 0.833192989571106   , 0.808461538461538   , 0.378048411881726   , 4.40409275046511e-40, 1650102923.122      , 1650102923.796      , 1650102924.285      , 1650102929.211      , 1650103407.01       , 1650103412.507      , 1650103412.863      , 1650103413.395      , 1650103413.677      , 1650103413.937      , 1650103414.216       & gbm\\_depth    , gbm\\_n\\_min    , gbm\\_shrinkage, cores\\_num    , gbm\\_cv\\_folds , num\\_trees    , 2            , 20           , 0.01         , 3            , 5            , 200           & mlflow.user                         , mlflow.source.name                  , mlflow.source.type                  , mlflow.rootRunId                    , mlflow.runName                      , azureuser                           , <console>                           , LOCAL                               , 65842778-39d3-4b98-89c7-eed8f5e48755, icy\\_board\\_8kskxfr2                  \\\\\n\\end{tabular}\n",
            "text/plain": "  run_uuid                             experiment_id                       \n1 65842778-39d3-4b98-89c7-eed8f5e48755 37100a77-4514-475e-a055-225f29ec6542\n  user_id                              status   start_time         \n1 efd036e9-c0e2-435e-90a8-0b5e91d4eaf2 FINISHED 2022-04-16 09:55:22\n  end_time           \n1 2022-04-16 10:04:11\n  artifact_uri                                                                     \n1 azureml://experiments/Default/runs/65842778-39d3-4b98-89c7-eed8f5e48755/artifacts\n  lifecycle_stage run_id                              \n1 active          65842778-39d3-4b98-89c7-eed8f5e48755\n  metrics                                                                                                                                                                                                                                                                                                                                                                                                                                                                                                                                                                                                                                                                                                                                             \n1 training set size   , test set size       , data set size       , end_time            , Accuracy            , Kappa               , AccuracyLower       , AccuracyUpper       , AccuracyNull        , AccuracyPValue      , McnemarPValue       , 5197                , 1300                , 6497                , 4.405               , 0.812307692307692   , 0.110443039749623   , 0.790000244205857   , 0.833192989571106   , 0.808461538461538   , 0.378048411881726   , 4.40409275046511e-40, 1650102923.122      , 1650102923.796      , 1650102924.285      , 1650102929.211      , 1650103407.01       , 1650103412.507      , 1650103412.863      , 1650103413.395      , 1650103413.677      , 1650103413.937      , 1650103414.216      \n  params                                                                                                                                                                            \n1 gbm_depth    , gbm_n_min    , gbm_shrinkage, cores_num    , gbm_cv_folds , num_trees    , 2            , 20           , 0.01         , 3            , 5            , 200          \n  tags                                                                                                                                                                                                                                                                                                                                                                                      \n1 mlflow.user                         , mlflow.source.name                  , mlflow.source.type                  , mlflow.rootRunId                    , mlflow.runName                      , azureuser                           , <console>                           , LOCAL                               , 65842778-39d3-4b98-89c7-eed8f5e48755, icy_board_8kskxfr2                  "
          },
          "metadata": {}
        }
      ],
      "execution_count": 36,
      "metadata": {
        "jupyter": {
          "source_hidden": false,
          "outputs_hidden": false
        },
        "nteract": {
          "transient": {
            "deleting": false
          }
        }
      }
    },
    {
      "cell_type": "code",
      "source": [],
      "outputs": [],
      "execution_count": null,
      "metadata": {
        "jupyter": {
          "source_hidden": false,
          "outputs_hidden": false
        },
        "nteract": {
          "transient": {
            "deleting": false
          }
        }
      }
    }
  ],
  "metadata": {
    "kernelspec": {
      "name": "ir",
      "language": "R",
      "display_name": "R"
    },
    "language_info": {
      "name": "R",
      "codemirror_mode": "r",
      "pygments_lexer": "r",
      "mimetype": "text/x-r-source",
      "file_extension": ".r",
      "version": "4.0.5"
    },
    "kernel_info": {
      "name": "ir"
    },
    "nteract": {
      "version": "nteract-front-end@1.0.0"
    }
  },
  "nbformat": 4,
  "nbformat_minor": 0
}